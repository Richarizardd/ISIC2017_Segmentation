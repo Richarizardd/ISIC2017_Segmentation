{
 "cells": [
  {
   "cell_type": "markdown",
   "metadata": {},
   "source": [
    "### 0. Dependencies"
   ]
  },
  {
   "cell_type": "code",
   "execution_count": 1,
   "metadata": {
    "collapsed": false,
    "scrolled": true
   },
   "outputs": [
    {
     "name": "stderr",
     "output_type": "stream",
     "text": [
      "Using TensorFlow backend.\n"
     ]
    },
    {
     "name": "stdout",
     "output_type": "stream",
     "text": [
      "Python: 2.7.12 |Anaconda 2.4.0 (x86_64)| (default, Jul  2 2016, 17:43:17) \n",
      "[GCC 4.2.1 (Based on Apple Inc. build 5658) (LLVM build 2336.11.00)]\n",
      "opencv: 2.4.11\n",
      "keras: 0.11.0\n",
      "mxnet: 0.11.0\n"
     ]
    }
   ],
   "source": [
    "# Built-In Dependencies\n",
    "import helpers\n",
    "import numpy as np\n",
    "import os\n",
    "import random\n",
    "import sys\n",
    "import time\n",
    "\n",
    "# Image Processing Dependencies\n",
    "import cv2\n",
    "from scipy.ndimage.interpolation import map_coordinates\n",
    "from scipy.ndimage.filters import gaussian_filter\n",
    "\n",
    "# Deep Learning Framework Dependecies\n",
    "from keras.preprocessing.image import *\n",
    "import mxnet as mx\n",
    "from mxnet.io import DataIter\n",
    "from mxnet.io import DataBatch\n",
    "\n",
    "# External Dependencies\n",
    "from symbol_CDCNN import CDCNN\n",
    "from SegmentationLoss import SegmentationLoss\n",
    "\n",
    "# Version\n",
    "print \"Python:\", sys.version\n",
    "print \"opencv:\", cv2.__version__\n",
    "print \"keras:\", mx.__version__\n",
    "print \"mxnet:\", mx.__version__"
   ]
  },
  {
   "cell_type": "markdown",
   "metadata": {},
   "source": [
    "### 1.1 Conv-Deconv Neural Network (no skip connections)"
   ]
  },
  {
   "cell_type": "code",
   "execution_count": 5,
   "metadata": {
    "collapsed": false
   },
   "outputs": [
    {
     "name": "stdout",
     "output_type": "stream",
     "text": [
      "Stage1_Input: [(1L, 3L, 256L, 256L)]\n",
      "Stage1D_conv1: [(1L, 32L, 256L, 256L)]\n",
      "Stage1D_conv2: [(1L, 32L, 256L, 256L)]\n",
      "\n",
      "Stage2D_pool: [(1L, 32L, 128L, 128L)]\n",
      "Stage2D_conv1: [(1L, 64L, 128L, 128L)]\n",
      "Stage2D_conv2: [(1L, 64L, 128L, 128L)]\n",
      "\n",
      "Stage3D_pool: [(1L, 64L, 64L, 64L)]\n",
      "Stage3D_conv1: [(1L, 128L, 64L, 64L)]\n",
      "Stage3D_conv2: [(1L, 128L, 64L, 64L)]\n",
      "\n",
      "Stage4D_pool: [(1L, 128L, 32L, 32L)]\n",
      "Stage4D_conv1: [(1L, 256L, 32L, 32L)]\n",
      "Stage4D_conv2: [(1L, 256L, 32L, 32L)]\n",
      "\n",
      "Stage5_pool: [(1L, 256L, 16L, 16L)]\n",
      "\n",
      "Stage5_conv1: [(1L, 512L, 16L, 16L)]\n",
      "Stage5_conv2: [(1L, 512L, 16L, 16L)]\n",
      "\n",
      "Stage4U_deconv: [(1L, 256L, 32L, 32L)]\n",
      "Stage4U_conv1: [(1L, 256L, 32L, 32L)]\n",
      "Stage4U_conv2: [(1L, 256L, 32L, 32L)]\n",
      "\n",
      "Stage3U_deconv: [(1L, 128L, 64L, 64L)]\n",
      "Stage3U_conv1: [(1L, 128L, 64L, 64L)]\n",
      "Stage3U_conv2: [(1L, 128L, 64L, 64L)]\n",
      "\n",
      "Stage2U_deconv: [(1L, 64L, 128L, 128L)]\n",
      "Stage2U_conv1: [(1L, 64L, 128L, 128L)]\n",
      "Stage2U_conv2: [(1L, 64L, 128L, 128L)]\n",
      "\n",
      "Stage1U_deconv: [(1L, 32L, 256L, 256L)]\n",
      "Stage1U_conv1: [(1L, 32L, 256L, 256L)]\n",
      "Stage1U_conv2: [(1L, 32L, 256L, 256L)]\n",
      "\n",
      "Stage1_output: [(1L, 1L, 256L, 256L)]\n"
     ]
    },
    {
     "data": {
      "text/plain": [
       "<Symbol softmax>"
      ]
     },
     "execution_count": 5,
     "metadata": {},
     "output_type": "execute_result"
    }
   ],
   "source": [
    "CDNN(short_skip=False, long_skip=False)"
   ]
  },
  {
   "cell_type": "markdown",
   "metadata": {
    "collapsed": true
   },
   "source": [
    "### 1.2 Conv-Deconv Neural Network (short skip connections)"
   ]
  },
  {
   "cell_type": "code",
   "execution_count": 7,
   "metadata": {
    "collapsed": false
   },
   "outputs": [
    {
     "name": "stdout",
     "output_type": "stream",
     "text": [
      "Stage1_Input: [(1L, 3L, 256L, 256L)]\n",
      "Stage1D_conv1: [(1L, 32L, 256L, 256L)]\n",
      "Stage1D_conv2: [(1L, 32L, 256L, 256L)]\n",
      "\n",
      "Stage2D_pool: [(1L, 32L, 128L, 128L)]\n",
      "Stage2D_conv1: [(1L, 64L, 128L, 128L)]\n",
      "Stage2D_conv2: [(1L, 64L, 128L, 128L)]\n",
      "\n",
      "Stage3D_pool: [(1L, 64L, 64L, 64L)]\n",
      "Stage3D_conv1: [(1L, 128L, 64L, 64L)]\n",
      "Stage3D_conv2: [(1L, 128L, 64L, 64L)]\n",
      "\n",
      "Stage4D_pool: [(1L, 128L, 32L, 32L)]\n",
      "Stage4D_conv1: [(1L, 256L, 32L, 32L)]\n",
      "Stage4D_conv2: [(1L, 256L, 32L, 32L)]\n",
      "\n",
      "Stage5_pool: [(1L, 256L, 16L, 16L)]\n",
      "\n",
      "Stage5_conv1: [(1L, 512L, 16L, 16L)]\n",
      "Stage5_conv2: [(1L, 512L, 16L, 16L)]\n",
      "\n",
      "Stage4U_deconv: [(1L, 256L, 32L, 32L)]\n",
      "Stage4U_conv1: [(1L, 256L, 32L, 32L)]\n",
      "Stage4U_conv2: [(1L, 256L, 32L, 32L)]\n",
      "\n",
      "Stage3U_deconv: [(1L, 128L, 64L, 64L)]\n",
      "Stage3U_conv1: [(1L, 128L, 64L, 64L)]\n",
      "Stage3U_conv2: [(1L, 128L, 64L, 64L)]\n",
      "\n",
      "Stage2U_deconv: [(1L, 64L, 128L, 128L)]\n",
      "Stage2U_conv1: [(1L, 64L, 128L, 128L)]\n",
      "Stage2U_conv2: [(1L, 64L, 128L, 128L)]\n",
      "\n",
      "Stage1U_deconv: [(1L, 32L, 256L, 256L)]\n",
      "Stage1U_conv1: [(1L, 32L, 256L, 256L)]\n",
      "Stage1U_conv2: [(1L, 32L, 256L, 256L)]\n",
      "\n",
      "Stage1_output: [(1L, 1L, 256L, 256L)]\n"
     ]
    },
    {
     "data": {
      "text/plain": [
       "<Symbol softmax>"
      ]
     },
     "execution_count": 7,
     "metadata": {},
     "output_type": "execute_result"
    }
   ],
   "source": [
    "CDCNN(short_skip=True, long_skip=False)"
   ]
  },
  {
   "cell_type": "markdown",
   "metadata": {},
   "source": [
    "### 1.3 Conv-Deconv Neural Network (long skip connections)"
   ]
  },
  {
   "cell_type": "code",
   "execution_count": 10,
   "metadata": {
    "collapsed": false
   },
   "outputs": [
    {
     "name": "stdout",
     "output_type": "stream",
     "text": [
      "Stage1_Input: [(1L, 3L, 256L, 256L)]\n",
      "Stage1D_conv1: [(1L, 32L, 256L, 256L)]\n",
      "Stage1D_conv2: [(1L, 32L, 256L, 256L)]\n",
      "\n",
      "Stage2D_pool: [(1L, 32L, 128L, 128L)]\n",
      "Stage2D_conv1: [(1L, 64L, 128L, 128L)]\n",
      "Stage2D_conv2: [(1L, 64L, 128L, 128L)]\n",
      "\n",
      "Stage3D_pool: [(1L, 64L, 64L, 64L)]\n",
      "Stage3D_conv1: [(1L, 128L, 64L, 64L)]\n",
      "Stage3D_conv2: [(1L, 128L, 64L, 64L)]\n",
      "\n",
      "Stage4D_pool: [(1L, 128L, 32L, 32L)]\n",
      "Stage4D_conv1: [(1L, 256L, 32L, 32L)]\n",
      "Stage4D_conv2: [(1L, 256L, 32L, 32L)]\n",
      "\n",
      "Stage5_pool: [(1L, 256L, 16L, 16L)]\n",
      "\n",
      "Stage5_conv1: [(1L, 512L, 16L, 16L)]\n",
      "Stage5_conv2: [(1L, 512L, 16L, 16L)]\n",
      "\n",
      "Stage4U_deconv: [(1L, 256L, 32L, 32L)]\n",
      "Stage4U_concat: [(1L, 512L, 32L, 32L)]\n",
      "Stage4U_conv1: [(1L, 256L, 32L, 32L)]\n",
      "Stage4U_conv2: [(1L, 256L, 32L, 32L)]\n",
      "\n",
      "Stage3U_deconv: [(1L, 128L, 64L, 64L)]\n",
      "Stage3U_concat: [(1L, 256L, 64L, 64L)]\n",
      "Stage3U_conv1: [(1L, 128L, 64L, 64L)]\n",
      "Stage3U_conv2: [(1L, 128L, 64L, 64L)]\n",
      "\n",
      "Stage2U_deconv: [(1L, 64L, 128L, 128L)]\n",
      "Stage2U_concat: [(1L, 128L, 128L, 128L)]\n",
      "Stage2U_conv1: [(1L, 64L, 128L, 128L)]\n",
      "Stage2U_conv2: [(1L, 64L, 128L, 128L)]\n",
      "\n",
      "Stage1U_deconv: [(1L, 32L, 256L, 256L)]\n",
      "Stage1U_concat: [(1L, 64L, 256L, 256L)]\n",
      "Stage1U_conv1: [(1L, 32L, 256L, 256L)]\n",
      "Stage1U_conv2: [(1L, 32L, 256L, 256L)]\n",
      "\n",
      "Stage1_output: [(1L, 1L, 256L, 256L)]\n"
     ]
    },
    {
     "data": {
      "text/plain": [
       "<Symbol softmax>"
      ]
     },
     "execution_count": 10,
     "metadata": {},
     "output_type": "execute_result"
    }
   ],
   "source": [
    "CDCNN(short_skip=False, long_skip=\"Concat\")"
   ]
  },
  {
   "cell_type": "markdown",
   "metadata": {},
   "source": [
    "### 1.4 Conv-Deconv Neural Network (short+long skip connections)"
   ]
  },
  {
   "cell_type": "code",
   "execution_count": 11,
   "metadata": {
    "collapsed": false
   },
   "outputs": [
    {
     "name": "stdout",
     "output_type": "stream",
     "text": [
      "Stage1_Input: [(1L, 3L, 256L, 256L)]\n",
      "Stage1D_conv1: [(1L, 32L, 256L, 256L)]\n",
      "Stage1D_conv2: [(1L, 32L, 256L, 256L)]\n",
      "\n",
      "Stage2D_pool: [(1L, 32L, 128L, 128L)]\n",
      "Stage2D_conv1: [(1L, 64L, 128L, 128L)]\n",
      "Stage2D_conv2: [(1L, 64L, 128L, 128L)]\n",
      "\n",
      "Stage3D_pool: [(1L, 64L, 64L, 64L)]\n",
      "Stage3D_conv1: [(1L, 128L, 64L, 64L)]\n",
      "Stage3D_conv2: [(1L, 128L, 64L, 64L)]\n",
      "\n",
      "Stage4D_pool: [(1L, 128L, 32L, 32L)]\n",
      "Stage4D_conv1: [(1L, 256L, 32L, 32L)]\n",
      "Stage4D_conv2: [(1L, 256L, 32L, 32L)]\n",
      "\n",
      "Stage5_pool: [(1L, 256L, 16L, 16L)]\n",
      "\n",
      "Stage5_conv1: [(1L, 512L, 16L, 16L)]\n",
      "Stage5_conv2: [(1L, 512L, 16L, 16L)]\n",
      "\n",
      "Stage4U_deconv: [(1L, 256L, 32L, 32L)]\n",
      "Stage4U_concat: [(1L, 512L, 32L, 32L)]\n",
      "Stage4U_conv1: [(1L, 256L, 32L, 32L)]\n",
      "Stage4U_conv2: [(1L, 256L, 32L, 32L)]\n",
      "\n",
      "Stage3U_deconv: [(1L, 128L, 64L, 64L)]\n",
      "Stage3U_concat: [(1L, 256L, 64L, 64L)]\n",
      "Stage3U_conv1: [(1L, 128L, 64L, 64L)]\n",
      "Stage3U_conv2: [(1L, 128L, 64L, 64L)]\n",
      "\n",
      "Stage2U_deconv: [(1L, 64L, 128L, 128L)]\n",
      "Stage2U_concat: [(1L, 128L, 128L, 128L)]\n",
      "Stage2U_conv1: [(1L, 64L, 128L, 128L)]\n",
      "Stage2U_conv2: [(1L, 64L, 128L, 128L)]\n",
      "\n",
      "Stage1U_deconv: [(1L, 32L, 256L, 256L)]\n",
      "Stage1U_concat: [(1L, 64L, 256L, 256L)]\n",
      "Stage1U_conv1: [(1L, 32L, 256L, 256L)]\n",
      "Stage1U_conv2: [(1L, 32L, 256L, 256L)]\n",
      "\n",
      "Stage1_output: [(1L, 1L, 256L, 256L)]\n"
     ]
    },
    {
     "data": {
      "text/plain": [
       "<Symbol softmax>"
      ]
     },
     "execution_count": 11,
     "metadata": {},
     "output_type": "execute_result"
    }
   ],
   "source": [
    "CDCNN(short_skip=True, long_skip=\"Concat\")"
   ]
  },
  {
   "cell_type": "code",
   "execution_count": 7,
   "metadata": {
    "collapsed": true
   },
   "outputs": [],
   "source": [
    "from PIL import Image"
   ]
  },
  {
   "cell_type": "code",
   "execution_count": 11,
   "metadata": {
    "collapsed": false
   },
   "outputs": [],
   "source": [
    "x = cv2.cvtColor(cv2.imread(\"MelanomaISIC/JPEGImages/ISIC_0000001.jpg\"), cv2.COLOR_BGR2RGB)\n",
    "y = cv2.imread(\"MelanomaISIC/SegmentationClass/ISIC_0000001_segmentation.png\")"
   ]
  },
  {
   "cell_type": "code",
   "execution_count": 20,
   "metadata": {
    "collapsed": false,
    "scrolled": true
   },
   "outputs": [
    {
     "name": "stdout",
     "output_type": "stream",
     "text": [
      "asdf\n"
     ]
    },
    {
     "data": {
      "image/png": "[encoded data removed]",
      "text/plain": [
       "<PIL.Image.Image image mode=RGB size=256x256 at 0x11FC5D1D0>"
      ]
     },
     "execution_count": 20,
     "metadata": {},
     "output_type": "execute_result"
    }
   ],
   "source": [
    "x2,y2 = random_transform(x,y, elastic=True)\n",
    "x2 = np.array(x2, dtype=np.uint8)\n",
    "Image.fromarray(x2)"
   ]
  },
  {
   "cell_type": "code",
   "execution_count": 283,
   "metadata": {
    "collapsed": false,
    "scrolled": true
   },
   "outputs": [
    {
     "data": {
      "image/png": "[encoded data removed]",
      "text/plain": [
       "<PIL.Image.Image image mode=RGB size=256x256 at 0x11CCAF750>"
      ]
     },
     "execution_count": 283,
     "metadata": {},
     "output_type": "execute_result"
    }
   ],
   "source": [
    "Image.fromarray(y2)"
   ]
  },
  {
   "cell_type": "code",
   "execution_count": 230,
   "metadata": {
    "collapsed": true
   },
   "outputs": [],
   "source": [
    "random_state = np.random.RandomState(1301)"
   ]
  },
  {
   "cell_type": "code",
   "execution_count": 235,
   "metadata": {
    "collapsed": false
   },
   "outputs": [
    {
     "data": {
      "text/plain": [
       "0.42728115119224164"
      ]
     },
     "execution_count": 235,
     "metadata": {},
     "output_type": "execute_result"
    }
   ],
   "source": [
    "random_state.uniform(-1, 1)"
   ]
  },
  {
   "cell_type": "code",
   "execution_count": 237,
   "metadata": {
    "collapsed": false
   },
   "outputs": [],
   "source": [
    "shape = x.shape"
   ]
  },
  {
   "cell_type": "code",
   "execution_count": 5,
   "metadata": {
    "collapsed": false
   },
   "outputs": [],
   "source": [
    "def elastic_deformation(img, label, alpha=256*0.2, sigma=256*0.08, alpha_affine=256*0.08, random_state=None):\n",
    "    \"\"\"Elastic deformation of images as described in [Simard2003]_ (with modifications).\n",
    "    .. [Simard2003] Simard, Steinkraus and Platt, \"Best Practices for\n",
    "         Convolutional Neural Networks applied to Visual Document Analysis\", in\n",
    "         Proc. of the International Conference on Document Analysis and\n",
    "         Recognition, 2003.\n",
    "\n",
    "     Based on https://gist.github.com/erniejunior/601cdf56d2b424757de5\n",
    "    \"\"\"\n",
    "    if random_state is None:\n",
    "        random_state = np.random.RandomState(1301)\n",
    "\n",
    "    shape = img.shape\n",
    "    shape_size = shape[:2]\n",
    "    \n",
    "    # Random affine\n",
    "    center_square = np.float32(shape_size) // 2\n",
    "    square_size = min(shape_size) // 3\n",
    "    pts1 = np.float32([center_square + square_size, [center_square[0]+square_size, center_square[1]-square_size], center_square - square_size])\n",
    "    pts2 = pts1 + random_state.uniform(-alpha_affine, alpha_affine, size=pts1.shape).astype(np.float32)\n",
    "    M = cv2.getAffineTransform(pts1, pts2)\n",
    "    img = cv2.warpAffine(img, M, shape_size[::-1])\n",
    "    label = cv2.warpAffine(label, M, shape_size[::-1])\n",
    "    \n",
    "    # random elastic deformation\n",
    "    dx = gaussian_filter((random_state.rand(*shape) * 2 - 1), sigma) * alpha\n",
    "    dy = gaussian_filter((random_state.rand(*shape) * 2 - 1), sigma) * alpha\n",
    "    dz = np.zeros_like(dx)\n",
    "    x, y, z = np.meshgrid(np.arange(shape[1]), np.arange(shape[0]), np.arange(shape[2]))\n",
    "    indices = np.reshape(y+dy, (-1, 1)), np.reshape(x+dx, (-1, 1)), np.reshape(z, (-1, 1))\n",
    "\n",
    "    img = map_coordinates(img, indices, order=1, mode='reflect').reshape(shape)\n",
    "    label = map_coordinates(label, indices, order=1, mode='reflect').reshape(shape)\n",
    "    return img, label\n",
    "\n",
    "def random_transform(x, y, \n",
    "    rotation_range=180, shear_range=0, zoom_range=[1,1], zoom_maintain_shape=True, \n",
    "    elastic=False, channel_shift_range=20, horizontal_flip=True, vertical_flip=True,\n",
    "    img_row_index=0, img_col_index=1, img_channel_index=2):\n",
    "\n",
    "    # use composition of homographies to generate final transform that\n",
    "    # needs to be applied\n",
    "    if rotation_range:\n",
    "        theta = np.pi / 180 * np.random.uniform(-rotation_range, rotation_range)\n",
    "    else:\n",
    "        theta = 0\n",
    "    rotation_matrix = np.array([[np.cos(theta), -np.sin(theta), 0],\n",
    "                                [np.sin(theta), np.cos(theta), 0],\n",
    "                                [0, 0, 1]])\n",
    "\n",
    "    tx = 0\n",
    "    ty = 0\n",
    "\n",
    "    translation_matrix = np.array([[1, 0, tx],\n",
    "                                   [0, 1, ty],\n",
    "                                   [0, 0, 1]])\n",
    "    if shear_range:\n",
    "        shear = np.random.uniform(-shear_range, shear_range)\n",
    "    else:\n",
    "        shear = 0\n",
    "    shear_matrix = np.array([[1, -np.sin(shear), 0],\n",
    "                             [0, np.cos(shear), 0],\n",
    "                             [0, 0, 1]])\n",
    "\n",
    "    if zoom_range[0] == 1 and zoom_range[1] == 1:\n",
    "        zx, zy = 1, 1\n",
    "    else:\n",
    "        zx, zy = np.random.uniform(zoom_range[0], zoom_range[1], 2)\n",
    "    if zoom_maintain_shape:\n",
    "        zy = zx\n",
    "    zoom_matrix = np.array([[zx, 0, 0],\n",
    "                            [0, zy, 0],\n",
    "                            [0, 0, 1]])\n",
    "\n",
    "    transform_matrix = np.dot(np.dot(np.dot(rotation_matrix, translation_matrix), shear_matrix), zoom_matrix)\n",
    "\n",
    "    h, w = x.shape[img_row_index], x.shape[img_col_index]\n",
    "    transform_matrix = transform_matrix_offset_center(transform_matrix, h, w)\n",
    "    \n",
    "    x = apply_transform(x, transform_matrix, img_channel_index, fill_mode='constant', cval=0)\n",
    "    y = apply_transform(y, transform_matrix, img_channel_index, fill_mode='constant', cval=0)\n",
    "\n",
    "    if elastic:\n",
    "        x, y = elastic_deformation(x, y)\n",
    "        \n",
    "    if channel_shift_range != 0:\n",
    "        x = random_channel_shift(x, channel_shift_range, img_channel_index)\n",
    "\n",
    "    if horizontal_flip:\n",
    "        if np.random.random() < 0.5:\n",
    "            x = flip_axis(x, img_col_index)\n",
    "            y = flip_axis(y, img_col_index)\n",
    "\n",
    "    if vertical_flip:\n",
    "        if np.random.random() < 0.5:\n",
    "            x = flip_axis(x, img_row_index)\n",
    "            y = flip_axis(y, img_row_index)\n",
    "    print \"asdf\"\n",
    "    return x, y"
   ]
  }
 ],
 "metadata": {
  "kernelspec": {
   "display_name": "Python 2",
   "language": "python",
   "name": "python2"
  },
  "language_info": {
   "codemirror_mode": {
    "name": "ipython",
    "version": 2
   },
   "file_extension": ".py",
   "mimetype": "text/x-python",
   "name": "python",
   "nbconvert_exporter": "python",
   "pygments_lexer": "ipython2",
   "version": "2.7.12"
  }
 },
 "nbformat": 4,
 "nbformat_minor": 2
}
